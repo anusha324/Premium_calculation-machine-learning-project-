{
 "cells": [
  {
   "cell_type": "code",
   "execution_count": 1,
   "id": "a3413b59",
   "metadata": {},
   "outputs": [],
   "source": [
    "import pandas as pd\n",
    "from sklearn.model_selection import train_test_split\n",
    "from sklearn.metrics import mean_absolute_error\n",
    "from sklearn.ensemble import RandomForestRegressor\n",
    "\n",
    "df = pd.read_csv('intershipproject_modified.csv')"
   ]
  },
  {
   "cell_type": "code",
   "execution_count": 2,
   "id": "28b255c4",
   "metadata": {},
   "outputs": [
    {
     "data": {
      "text/html": [
       "<div>\n",
       "<style scoped>\n",
       "    .dataframe tbody tr th:only-of-type {\n",
       "        vertical-align: middle;\n",
       "    }\n",
       "\n",
       "    .dataframe tbody tr th {\n",
       "        vertical-align: top;\n",
       "    }\n",
       "\n",
       "    .dataframe thead th {\n",
       "        text-align: right;\n",
       "    }\n",
       "</style>\n",
       "<table border=\"1\" class=\"dataframe\">\n",
       "  <thead>\n",
       "    <tr style=\"text-align: right;\">\n",
       "      <th></th>\n",
       "      <th>eventId</th>\n",
       "      <th>eventName</th>\n",
       "      <th>eventTime</th>\n",
       "      <th>numberPlate</th>\n",
       "      <th>ownerName</th>\n",
       "      <th>speedLimit</th>\n",
       "      <th>speedDetected</th>\n",
       "      <th>ownerAge</th>\n",
       "      <th>location</th>\n",
       "      <th>vehicleRegistrationYear</th>\n",
       "      <th>ageOfVehicle</th>\n",
       "      <th>brandOfCar</th>\n",
       "      <th>maritalStatus</th>\n",
       "    </tr>\n",
       "  </thead>\n",
       "  <tbody>\n",
       "    <tr>\n",
       "      <th>0</th>\n",
       "      <td>81999</td>\n",
       "      <td>Over Speed</td>\n",
       "      <td>16-06-2023 10.24</td>\n",
       "      <td>PB 26 WC 9915</td>\n",
       "      <td>Aaina</td>\n",
       "      <td>100</td>\n",
       "      <td>114</td>\n",
       "      <td>36</td>\n",
       "      <td>Rural</td>\n",
       "      <td>2010</td>\n",
       "      <td>14</td>\n",
       "      <td>Tata</td>\n",
       "      <td>Married</td>\n",
       "    </tr>\n",
       "    <tr>\n",
       "      <th>1</th>\n",
       "      <td>86613</td>\n",
       "      <td>No Helmet</td>\n",
       "      <td>23-08-2023 4.55</td>\n",
       "      <td>PB 26 WC 9915</td>\n",
       "      <td>Aaina</td>\n",
       "      <td>120</td>\n",
       "      <td>58</td>\n",
       "      <td>36</td>\n",
       "      <td>Rural</td>\n",
       "      <td>2010</td>\n",
       "      <td>14</td>\n",
       "      <td>Tata</td>\n",
       "      <td>Married</td>\n",
       "    </tr>\n",
       "    <tr>\n",
       "      <th>2</th>\n",
       "      <td>86085</td>\n",
       "      <td>Hit and Run</td>\n",
       "      <td>15-09-2023 13.44</td>\n",
       "      <td>PB 26 WC 9915</td>\n",
       "      <td>Aaina</td>\n",
       "      <td>100</td>\n",
       "      <td>71</td>\n",
       "      <td>36</td>\n",
       "      <td>Rural</td>\n",
       "      <td>2010</td>\n",
       "      <td>14</td>\n",
       "      <td>Tata</td>\n",
       "      <td>Married</td>\n",
       "    </tr>\n",
       "    <tr>\n",
       "      <th>3</th>\n",
       "      <td>69485</td>\n",
       "      <td>Driving Under the Influence (DUI)</td>\n",
       "      <td>29-04-2023 13.55</td>\n",
       "      <td>AR 22 OF 9491</td>\n",
       "      <td>Aarna</td>\n",
       "      <td>100</td>\n",
       "      <td>43</td>\n",
       "      <td>50</td>\n",
       "      <td>Rural</td>\n",
       "      <td>2021</td>\n",
       "      <td>3</td>\n",
       "      <td>Tata</td>\n",
       "      <td>Single</td>\n",
       "    </tr>\n",
       "    <tr>\n",
       "      <th>4</th>\n",
       "      <td>13622</td>\n",
       "      <td>No Helmet</td>\n",
       "      <td>11-06-2023 20.17</td>\n",
       "      <td>AR 22 OF 9491</td>\n",
       "      <td>Aarna</td>\n",
       "      <td>100</td>\n",
       "      <td>82</td>\n",
       "      <td>50</td>\n",
       "      <td>Rural</td>\n",
       "      <td>2021</td>\n",
       "      <td>3</td>\n",
       "      <td>Tata</td>\n",
       "      <td>Single</td>\n",
       "    </tr>\n",
       "  </tbody>\n",
       "</table>\n",
       "</div>"
      ],
      "text/plain": [
       "   eventId                          eventName         eventTime  \\\n",
       "0    81999                         Over Speed  16-06-2023 10.24   \n",
       "1    86613                          No Helmet   23-08-2023 4.55   \n",
       "2    86085                        Hit and Run  15-09-2023 13.44   \n",
       "3    69485  Driving Under the Influence (DUI)  29-04-2023 13.55   \n",
       "4    13622                          No Helmet  11-06-2023 20.17   \n",
       "\n",
       "     numberPlate ownerName  speedLimit  speedDetected  ownerAge location  \\\n",
       "0  PB 26 WC 9915     Aaina         100            114        36    Rural   \n",
       "1  PB 26 WC 9915     Aaina         120             58        36    Rural   \n",
       "2  PB 26 WC 9915     Aaina         100             71        36    Rural   \n",
       "3  AR 22 OF 9491     Aarna         100             43        50    Rural   \n",
       "4  AR 22 OF 9491     Aarna         100             82        50    Rural   \n",
       "\n",
       "   vehicleRegistrationYear  ageOfVehicle brandOfCar maritalStatus  \n",
       "0                     2010            14       Tata       Married  \n",
       "1                     2010            14       Tata       Married  \n",
       "2                     2010            14       Tata       Married  \n",
       "3                     2021             3       Tata        Single  \n",
       "4                     2021             3       Tata        Single  "
      ]
     },
     "execution_count": 2,
     "metadata": {},
     "output_type": "execute_result"
    }
   ],
   "source": [
    "df.head(5)"
   ]
  },
  {
   "cell_type": "code",
   "execution_count": 3,
   "id": "d7a948cf",
   "metadata": {},
   "outputs": [],
   "source": [
    "\n",
    "severity_points = {\n",
    "    'Wrong Way Detection': 700,\n",
    "    'Red Light Violation Detection': 500,\n",
    "    'Hit and Run': 1000,\n",
    "    'Wrong Licence Plate': 300,\n",
    "    'Reckless Driving': 800,\n",
    "    'Driving Under the Influence (DUI)': 900,\n",
    "    'Triple Ride': 600,\n",
    "    'Not Wearing Seat Belts': 200,\n",
    "    'Over Speed': 400,\n",
    "    'No Helmet': 250,\n",
    "    'Vehicle Crossing Zebra Line': 350,\n",
    "    'Vehicle Moving in Marked Area': 450\n",
    "}\n",
    "df['severityPoints'] = df['eventName'].map(severity_points)\n",
    "\n",
    "df['totalViolations'] = df.groupby(['ownerName', 'numberPlate'])['eventId'].transform('count')\n",
    "\n",
    "def classify_violation_level(points):\n",
    "    if points >= 800:\n",
    "        return 'high'\n",
    "    elif points >= 300:\n",
    "        return 'medium'\n",
    "    else:\n",
    "        return 'low'\n",
    "\n",
    "df['violationLevel'] = df['severityPoints'].apply(classify_violation_level)\n",
    "\n",
    "owner_severity = df.groupby('numberPlate')['severityPoints'].sum()\n",
    "max_severity = owner_severity.max()\n",
    "df['riskScore'] = df['numberPlate'].map(lambda x: int((owner_severity[x] / max_severity) * 100))"
   ]
  },
  {
   "cell_type": "code",
   "execution_count": 4,
   "id": "a38b81b3",
   "metadata": {},
   "outputs": [
    {
     "data": {
      "text/html": [
       "<div>\n",
       "<style scoped>\n",
       "    .dataframe tbody tr th:only-of-type {\n",
       "        vertical-align: middle;\n",
       "    }\n",
       "\n",
       "    .dataframe tbody tr th {\n",
       "        vertical-align: top;\n",
       "    }\n",
       "\n",
       "    .dataframe thead th {\n",
       "        text-align: right;\n",
       "    }\n",
       "</style>\n",
       "<table border=\"1\" class=\"dataframe\">\n",
       "  <thead>\n",
       "    <tr style=\"text-align: right;\">\n",
       "      <th></th>\n",
       "      <th>eventName</th>\n",
       "      <th>severityPoints</th>\n",
       "      <th>totalViolations</th>\n",
       "      <th>violationLevel</th>\n",
       "    </tr>\n",
       "  </thead>\n",
       "  <tbody>\n",
       "    <tr>\n",
       "      <th>0</th>\n",
       "      <td>Over Speed</td>\n",
       "      <td>400</td>\n",
       "      <td>3</td>\n",
       "      <td>medium</td>\n",
       "    </tr>\n",
       "    <tr>\n",
       "      <th>1</th>\n",
       "      <td>No Helmet</td>\n",
       "      <td>250</td>\n",
       "      <td>3</td>\n",
       "      <td>low</td>\n",
       "    </tr>\n",
       "    <tr>\n",
       "      <th>2</th>\n",
       "      <td>Hit and Run</td>\n",
       "      <td>1000</td>\n",
       "      <td>3</td>\n",
       "      <td>high</td>\n",
       "    </tr>\n",
       "    <tr>\n",
       "      <th>3</th>\n",
       "      <td>Driving Under the Influence (DUI)</td>\n",
       "      <td>900</td>\n",
       "      <td>2</td>\n",
       "      <td>high</td>\n",
       "    </tr>\n",
       "    <tr>\n",
       "      <th>4</th>\n",
       "      <td>No Helmet</td>\n",
       "      <td>250</td>\n",
       "      <td>2</td>\n",
       "      <td>low</td>\n",
       "    </tr>\n",
       "    <tr>\n",
       "      <th>...</th>\n",
       "      <td>...</td>\n",
       "      <td>...</td>\n",
       "      <td>...</td>\n",
       "      <td>...</td>\n",
       "    </tr>\n",
       "    <tr>\n",
       "      <th>995</th>\n",
       "      <td>Hit and Run</td>\n",
       "      <td>1000</td>\n",
       "      <td>5</td>\n",
       "      <td>high</td>\n",
       "    </tr>\n",
       "    <tr>\n",
       "      <th>996</th>\n",
       "      <td>Vehicle Moving in Marked Area</td>\n",
       "      <td>450</td>\n",
       "      <td>5</td>\n",
       "      <td>medium</td>\n",
       "    </tr>\n",
       "    <tr>\n",
       "      <th>997</th>\n",
       "      <td>Wrong Way Detection</td>\n",
       "      <td>700</td>\n",
       "      <td>5</td>\n",
       "      <td>medium</td>\n",
       "    </tr>\n",
       "    <tr>\n",
       "      <th>998</th>\n",
       "      <td>Triple Ride</td>\n",
       "      <td>600</td>\n",
       "      <td>2</td>\n",
       "      <td>medium</td>\n",
       "    </tr>\n",
       "    <tr>\n",
       "      <th>999</th>\n",
       "      <td>Not Wearing Seat Belts</td>\n",
       "      <td>200</td>\n",
       "      <td>2</td>\n",
       "      <td>low</td>\n",
       "    </tr>\n",
       "  </tbody>\n",
       "</table>\n",
       "<p>1000 rows × 4 columns</p>\n",
       "</div>"
      ],
      "text/plain": [
       "                             eventName  severityPoints  totalViolations  \\\n",
       "0                           Over Speed             400                3   \n",
       "1                            No Helmet             250                3   \n",
       "2                          Hit and Run            1000                3   \n",
       "3    Driving Under the Influence (DUI)             900                2   \n",
       "4                            No Helmet             250                2   \n",
       "..                                 ...             ...              ...   \n",
       "995                        Hit and Run            1000                5   \n",
       "996      Vehicle Moving in Marked Area             450                5   \n",
       "997                Wrong Way Detection             700                5   \n",
       "998                        Triple Ride             600                2   \n",
       "999             Not Wearing Seat Belts             200                2   \n",
       "\n",
       "    violationLevel  \n",
       "0           medium  \n",
       "1              low  \n",
       "2             high  \n",
       "3             high  \n",
       "4              low  \n",
       "..             ...  \n",
       "995           high  \n",
       "996         medium  \n",
       "997         medium  \n",
       "998         medium  \n",
       "999            low  \n",
       "\n",
       "[1000 rows x 4 columns]"
      ]
     },
     "execution_count": 4,
     "metadata": {},
     "output_type": "execute_result"
    }
   ],
   "source": [
    "df[['eventName', 'severityPoints', 'totalViolations', 'violationLevel']]"
   ]
  },
  {
   "cell_type": "code",
   "execution_count": 5,
   "id": "02ae6eaa",
   "metadata": {},
   "outputs": [],
   "source": [
    "location_mapping = {'Urban': 0, 'Rural': 1}\n",
    "marital_status_mapping = {'Married': 0, 'Single': 1}\n",
    "brand_mapping = {'Mahindra': 0, 'Hyundai': 1, 'Tata': 2, 'Maruti': 3}\n",
    "\n",
    "df['location'] = df['location'].map(location_mapping)\n",
    "df['maritalStatus'] = df['maritalStatus'].map(marital_status_mapping)\n",
    "df['brandOfCar'] = df['brandOfCar'].map(brand_mapping)"
   ]
  },
  {
   "cell_type": "code",
   "execution_count": 6,
   "id": "8f6db5d7",
   "metadata": {},
   "outputs": [
    {
     "name": "stdout",
     "output_type": "stream",
     "text": [
      "\n",
      "RandomForestRegressor:\n",
      "Cross-Validation MAE: 4.0034\n",
      "Test MAE: 3.7213\n",
      "Test MSE: 29.3416\n",
      "Test RMSE: 5.4168\n",
      "Test R²: 0.9101\n",
      "\n",
      "LinearRegression:\n",
      "Cross-Validation MAE: 6.6644\n",
      "Test MAE: 7.0410\n",
      "Test MSE: 73.6096\n",
      "Test RMSE: 8.5796\n",
      "Test R²: 0.7744\n",
      "\n",
      "DecisionTreeRegressor:\n",
      "Cross-Validation MAE: 4.3325\n",
      "Test MAE: 3.8700\n",
      "Test MSE: 51.9600\n",
      "Test RMSE: 7.2083\n",
      "Test R²: 0.8408\n",
      "\n",
      "GradientBoostingRegressor:\n",
      "Cross-Validation MAE: 5.6674\n",
      "Test MAE: 6.0424\n",
      "Test MSE: 56.1672\n",
      "Test RMSE: 7.4945\n",
      "Test R²: 0.8279\n",
      "\n",
      "SVR:\n",
      "Cross-Validation MAE: 16.3769\n",
      "Test MAE: 13.6167\n",
      "Test MSE: 309.3452\n",
      "Test RMSE: 17.5882\n",
      "Test R²: 0.0520\n"
     ]
    }
   ],
   "source": [
    "import pandas as pd\n",
    "from sklearn.model_selection import train_test_split, cross_val_score\n",
    "from sklearn.metrics import mean_absolute_error, mean_squared_error, r2_score\n",
    "from sklearn.ensemble import RandomForestRegressor, GradientBoostingRegressor\n",
    "from sklearn.linear_model import LinearRegression\n",
    "from sklearn.tree import DecisionTreeRegressor\n",
    "from sklearn.svm import SVR\n",
    "import numpy as np\n",
    "\n",
    "\n",
    "features = ['severityPoints', 'totalViolations', 'ownerAge', 'ageOfVehicle', 'speedDetected', 'location', 'brandOfCar']\n",
    "X = df[features]\n",
    "y = df['riskScore']\n",
    "\n",
    "\n",
    "X_train, X_test, y_train, y_test = train_test_split(X, y, test_size=0.2, random_state=42)\n",
    "\n",
    "\n",
    "models = {\n",
    "    'RandomForestRegressor': RandomForestRegressor(n_estimators=100, random_state=42),\n",
    "    'LinearRegression': LinearRegression(),\n",
    "    'DecisionTreeRegressor': DecisionTreeRegressor(random_state=42),\n",
    "    'GradientBoostingRegressor': GradientBoostingRegressor(n_estimators=100, random_state=42),\n",
    "    'SVR': SVR()\n",
    "}\n",
    "\n",
    "\n",
    "results = {}\n",
    "\n",
    "for name, model in models.items():\n",
    "   \n",
    "    scores = cross_val_score(model, X_train, y_train, scoring='neg_mean_absolute_error', cv=5)\n",
    "    model.fit(X_train, y_train)\n",
    "    y_pred = model.predict(X_test)\n",
    "    \n",
    "   \n",
    "    mae = mean_absolute_error(y_test, y_pred)\n",
    "    mse = mean_squared_error(y_test, y_pred)\n",
    "    rmse = np.sqrt(mse)\n",
    "    r2 = r2_score(y_test, y_pred)\n",
    "    \n",
    "    results[name] = {\n",
    "        'Cross-Validation MAE': -scores.mean(),\n",
    "        'Test MAE': mae,\n",
    "        'Test MSE': mse,\n",
    "        'Test RMSE': rmse,\n",
    "        'Test R²': r2\n",
    "    }\n",
    "\n",
    "\n",
    "for name, metrics in results.items():\n",
    "    print(f\"\\n{name}:\")\n",
    "    for metric, value in metrics.items():\n",
    "        print(f\"{metric}: {value:.4f}\")"
   ]
  },
  {
   "cell_type": "markdown",
   "id": "70cddd77",
   "metadata": {},
   "source": [
    "# model building"
   ]
  },
  {
   "cell_type": "code",
   "execution_count": 7,
   "id": "9b8c78b9",
   "metadata": {},
   "outputs": [
    {
     "name": "stdout",
     "output_type": "stream",
     "text": [
      "Mean Absolute Error: 3.7213\n"
     ]
    }
   ],
   "source": [
    "features = ['severityPoints', 'totalViolations','ownerAge', 'ageOfVehicle', 'speedDetected','location','brandOfCar']\n",
    "\n",
    "X = df[features]\n",
    "y = df['riskScore']\n",
    "\n",
    "\n",
    "X_train, X_test, y_train, y_test = train_test_split(X, y, test_size=0.2, random_state=42)\n",
    "\n",
    "model = RandomForestRegressor(n_estimators=100, random_state=42)\n",
    "model.fit(X_train, y_train)\n",
    "\n",
    "y_pred = model.predict(X_test)\n",
    "\n",
    "mae = mean_absolute_error(y_test, y_pred)\n",
    "print(f'Mean Absolute Error: {mae}')"
   ]
  },
  {
   "cell_type": "code",
   "execution_count": 8,
   "id": "08a8ec39",
   "metadata": {},
   "outputs": [
    {
     "name": "stdout",
     "output_type": "stream",
     "text": [
      "Mean Squared Error: 29.341566111111113\n"
     ]
    }
   ],
   "source": [
    "from sklearn.metrics import mean_squared_error, r2_score\n",
    "\n",
    "mse = mean_squared_error(y_test, y_pred)\n",
    "print(f'Mean Squared Error: {mse}')"
   ]
  },
  {
   "cell_type": "code",
   "execution_count": 9,
   "id": "7c15552f",
   "metadata": {},
   "outputs": [
    {
     "name": "stdout",
     "output_type": "stream",
     "text": [
      "R-squared: 0.9100779463343208\n"
     ]
    }
   ],
   "source": [
    "from sklearn.metrics import r2_score\n",
    "\n",
    "r2 = r2_score(y_test, y_pred)\n",
    "print(f'R-squared: {r2}')"
   ]
  },
  {
   "cell_type": "code",
   "execution_count": 10,
   "id": "3c426929",
   "metadata": {},
   "outputs": [
    {
     "name": "stdout",
     "output_type": "stream",
     "text": [
      "Root Mean Squared Error: 5.416785588438139\n"
     ]
    }
   ],
   "source": [
    "import numpy as np\n",
    "rmse = np.sqrt(mse)\n",
    "print(f'Root Mean Squared Error: {rmse}')"
   ]
  },
  {
   "cell_type": "code",
   "execution_count": 11,
   "id": "f6fc5de6",
   "metadata": {},
   "outputs": [
    {
     "name": "stdout",
     "output_type": "stream",
     "text": [
      "   eventId                          eventName         eventTime  \\\n",
      "0    81999                         Over Speed  16-06-2023 10.24   \n",
      "1    86613                          No Helmet   23-08-2023 4.55   \n",
      "2    86085                        Hit and Run  15-09-2023 13.44   \n",
      "3    69485  Driving Under the Influence (DUI)  29-04-2023 13.55   \n",
      "4    13622                          No Helmet  11-06-2023 20.17   \n",
      "\n",
      "     numberPlate ownerName  speedLimit  speedDetected  ownerAge  location  \\\n",
      "0  PB 26 WC 9915     Aaina         100            114        36         1   \n",
      "1  PB 26 WC 9915     Aaina         120             58        36         1   \n",
      "2  PB 26 WC 9915     Aaina         100             71        36         1   \n",
      "3  AR 22 OF 9491     Aarna         100             43        50         1   \n",
      "4  AR 22 OF 9491     Aarna         100             82        50         1   \n",
      "\n",
      "   vehicleRegistrationYear  ageOfVehicle  brandOfCar  maritalStatus  \\\n",
      "0                     2010            14           2              0   \n",
      "1                     2010            14           2              0   \n",
      "2                     2010            14           2              0   \n",
      "3                     2021             3           2              1   \n",
      "4                     2021             3           2              1   \n",
      "\n",
      "   severityPoints  totalViolations violationLevel  riskScore  \\\n",
      "0             400                3         medium         28   \n",
      "1             250                3            low         28   \n",
      "2            1000                3           high         28   \n",
      "3             900                2           high         20   \n",
      "4             250                2            low         20   \n",
      "\n",
      "   predictedRiskScore  \n",
      "0                  28  \n",
      "1                  28  \n",
      "2                  28  \n",
      "3                  19  \n",
      "4                  19  \n"
     ]
    }
   ],
   "source": [
    "df['predictedRiskScore'] = model.predict(X)\n",
    "\n",
    "df['predictedRiskScore'] = df.groupby('numberPlate')['predictedRiskScore'].transform('mean').round().astype(int)\n",
    "print(df.head())"
   ]
  },
  {
   "cell_type": "code",
   "execution_count": 12,
   "id": "48ff4f16",
   "metadata": {},
   "outputs": [],
   "source": [
    "df.to_csv('intershipproject_modified123.csv', index=False)"
   ]
  },
  {
   "cell_type": "code",
   "execution_count": 13,
   "id": "920f067d",
   "metadata": {},
   "outputs": [],
   "source": [
    "import pickle as pkl\n",
    "import joblib"
   ]
  },
  {
   "cell_type": "code",
   "execution_count": 14,
   "id": "d6d72a39",
   "metadata": {},
   "outputs": [
    {
     "data": {
      "text/plain": [
       "['finalmodel.pkl']"
      ]
     },
     "execution_count": 14,
     "metadata": {},
     "output_type": "execute_result"
    }
   ],
   "source": [
    "joblib.dump(model,'finalmodel.pkl')"
   ]
  },
  {
   "cell_type": "code",
   "execution_count": 16,
   "id": "a7b99f19",
   "metadata": {},
   "outputs": [],
   "source": [
    "reverse_brand_mapping = {0: 'Mahindra', 1: 'Hyundai', 2: 'Tata', 3: 'Maruti'}\n",
    "\n",
    "df['brandOfCar'] = df['brandOfCar'].map(reverse_brand_mapping)"
   ]
  },
  {
   "cell_type": "code",
   "execution_count": 17,
   "id": "6b491a6d",
   "metadata": {},
   "outputs": [
    {
     "name": "stdout",
     "output_type": "stream",
     "text": [
      "     eventId ownerName  predictedRiskScore  premium\n",
      "0      81999     Aaina                  28     6610\n",
      "1      86613     Aaina                  28     6610\n",
      "2      86085     Aaina                  28     6610\n",
      "3      69485     Aarna                  19     6065\n",
      "4      13622     Aarna                  19     6065\n",
      "..       ...       ...                 ...      ...\n",
      "995     3600     Zaina                  49     7650\n",
      "996    53649     Zaina                  49     7650\n",
      "997    57180     Zaina                  49     7650\n",
      "998    45258      Zara                  15     5940\n",
      "999    47939      Zara                  15     5940\n",
      "\n",
      "[1000 rows x 4 columns]\n"
     ]
    }
   ],
   "source": [
    "base_premium = 5000 \n",
    "def calculate_premium(owner_data):\n",
    "    premium = base_premium\n",
    "    \n",
    "    premium += owner_data['predictedRiskScore'] * 50\n",
    "    \n",
    "    premium += owner_data['totalViolations'] * 20\n",
    "    \n",
    "    if 25 <= owner_data['ownerAge'] <= 35:\n",
    "        premium += 100\n",
    "    elif 36 <= owner_data['ownerAge'] <= 45:\n",
    "        premium += 50\n",
    "    elif 46 <= owner_data['ownerAge'] <= 55:\n",
    "        premium += 25\n",
    "    \n",
    "    if owner_data['ageOfVehicle'] < 5:\n",
    "        premium += 50\n",
    "    elif owner_data['ageOfVehicle'] < 10:\n",
    "        premium += 75\n",
    "    else:\n",
    "        premium += 100\n",
    "        \n",
    "    return premium\n",
    "\n",
    "\n",
    "df['premium'] = df.apply(calculate_premium, axis=1)\n",
    "print(df[['eventId', 'ownerName', 'predictedRiskScore', 'premium']])"
   ]
  },
  {
   "cell_type": "code",
   "execution_count": 18,
   "id": "cd24f290",
   "metadata": {},
   "outputs": [
    {
     "data": {
      "image/png": "[encoded data removed]",
      "text/plain": [
       "<Figure size 1000x600 with 1 Axes>"
      ]
     },
     "metadata": {},
     "output_type": "display_data"
    }
   ],
   "source": [
    "from sklearn.metrics import mean_absolute_error, mean_squared_error, r2_score\n",
    "import seaborn as sns\n",
    "import matplotlib.pyplot as plt\n",
    "plt.figure(figsize=(10, 6))\n",
    "plt.scatter(y_test, y_pred, color='blue')\n",
    "plt.xlabel('Actual Risk Scores')\n",
    "plt.ylabel('Predicted Risk Scores')\n",
    "plt.title('Actual vs. Predicted Risk Scores')\n",
    "plt.show()\n"
   ]
  }
 ],
 "metadata": {
  "kernelspec": {
   "display_name": "Python 3 (ipykernel)",
   "language": "python",
   "name": "python3"
  },
  "language_info": {
   "codemirror_mode": {
    "name": "ipython",
    "version": 3
   },
   "file_extension": ".py",
   "mimetype": "text/x-python",
   "name": "python",
   "nbconvert_exporter": "python",
   "pygments_lexer": "ipython3",
   "version": "3.10.0"
  }
 },
 "nbformat": 4,
 "nbformat_minor": 5
}
